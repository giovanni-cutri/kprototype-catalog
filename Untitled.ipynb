{
 "cells": [
  {
   "cell_type": "markdown",
   "id": "c757d067-e401-4d58-aadc-558ef1c5dad1",
   "metadata": {},
   "source": [
    "# Cluster Analysis using k-prototype algorithm"
   ]
  },
  {
   "cell_type": "markdown",
   "id": "32838585-b8b4-410c-a15b-e12e4bd6ad78",
   "metadata": {},
   "source": [
    "The k-prototype algorithm is an enhanced version of the classic *k-means* algorithm which is able to handle categorical variables as well and thus broadens the possible applications of this clustering technique."
   ]
  },
  {
   "cell_type": "markdown",
   "id": "77c0ef5a-696b-4984-9aa0-8f8fe7fead2b",
   "metadata": {},
   "source": [
    "Suppose we have a set of customers on whom we collected some data, like demographic information, and we would like to perform a segmentation analysis: we are looking to divide the market in well-separated groups characterized by an internal homogeneity with respect to our data. Each of the segment we will identify will feature some distinctive values for the data and consequentially we will be able to choose one or more targets to focus our business on or take action to improve our current performance with effective marketing policies."
   ]
  },
  {
   "cell_type": "markdown",
   "id": "3f3f8fb1-8b5f-402d-930c-84e78cfa1bf3",
   "metadata": {},
   "source": [
    "For this purpose, we can use cluster analysis and more specifically the k-prototype algorithm."
   ]
  },
  {
   "cell_type": "markdown",
   "id": "6c25b39b-0427-49d5-ba35-ff07f6f19e95",
   "metadata": {},
   "source": [
    "Let's start by having a look at our data."
   ]
  },
  {
   "cell_type": "code",
   "execution_count": 1,
   "id": "1d00e429-267c-4023-9683-745d15a43be7",
   "metadata": {},
   "outputs": [],
   "source": [
    "options(warn=-1)\n",
    "data <- read.csv(\"catalog.csv\")\n",
    "data$rnd1 <- NULL\n",
    "data$rnd2 <- NULL"
   ]
  },
  {
   "cell_type": "code",
   "execution_count": 2,
   "id": "946942ed-a8e5-460d-b1f8-30a0e243439c",
   "metadata": {},
   "outputs": [
    {
     "name": "stdout",
     "output_type": "stream",
     "text": [
      "'data.frame':\t1000 obs. of  10 variables:\n",
      " $ AmountSpent: int  755 1318 296 2436 1304 495 782 1155 158 3034 ...\n",
      " $ Age        : chr  \"Old\" \"Middle\" \"Young\" \"Middle\" ...\n",
      " $ Gender     : chr  \"Female\" \"Male\" \"Female\" \"Male\" ...\n",
      " $ OwnHome    : chr  \"Own\" \"Rent\" \"Rent\" \"Own\" ...\n",
      " $ Married    : chr  \"Single\" \"Single\" \"Single\" \"Married\" ...\n",
      " $ Location   : chr  \"Far\" \"Close\" \"Close\" \"Close\" ...\n",
      " $ Salary     : int  47500 63600 13500 85600 68400 30400 48100 68400 51900 80700 ...\n",
      " $ Children   : int  0 0 0 1 0 0 0 0 3 0 ...\n",
      " $ History    : chr  \"High\" \"High\" \"Low\" \"High\" ...\n",
      " $ Catalogs   : int  6 6 18 18 12 6 12 18 6 18 ...\n"
     ]
    }
   ],
   "source": [
    "str(data)"
   ]
  },
  {
   "cell_type": "code",
   "execution_count": 3,
   "id": "eabd2032-274f-4beb-b6f2-38802f2913fa",
   "metadata": {},
   "outputs": [
    {
     "data": {
      "text/html": [
       "<table class=\"dataframe\">\n",
       "<caption>A data.frame: 6 × 10</caption>\n",
       "<thead>\n",
       "\t<tr><th></th><th scope=col>AmountSpent</th><th scope=col>Age</th><th scope=col>Gender</th><th scope=col>OwnHome</th><th scope=col>Married</th><th scope=col>Location</th><th scope=col>Salary</th><th scope=col>Children</th><th scope=col>History</th><th scope=col>Catalogs</th></tr>\n",
       "\t<tr><th></th><th scope=col>&lt;int&gt;</th><th scope=col>&lt;chr&gt;</th><th scope=col>&lt;chr&gt;</th><th scope=col>&lt;chr&gt;</th><th scope=col>&lt;chr&gt;</th><th scope=col>&lt;chr&gt;</th><th scope=col>&lt;int&gt;</th><th scope=col>&lt;int&gt;</th><th scope=col>&lt;chr&gt;</th><th scope=col>&lt;int&gt;</th></tr>\n",
       "</thead>\n",
       "<tbody>\n",
       "\t<tr><th scope=row>1</th><td> 755</td><td>Old   </td><td>Female</td><td>Own </td><td>Single </td><td>Far  </td><td>47500</td><td>0</td><td>High</td><td> 6</td></tr>\n",
       "\t<tr><th scope=row>2</th><td>1318</td><td>Middle</td><td>Male  </td><td>Rent</td><td>Single </td><td>Close</td><td>63600</td><td>0</td><td>High</td><td> 6</td></tr>\n",
       "\t<tr><th scope=row>3</th><td> 296</td><td>Young </td><td>Female</td><td>Rent</td><td>Single </td><td>Close</td><td>13500</td><td>0</td><td>Low </td><td>18</td></tr>\n",
       "\t<tr><th scope=row>4</th><td>2436</td><td>Middle</td><td>Male  </td><td>Own </td><td>Married</td><td>Close</td><td>85600</td><td>1</td><td>High</td><td>18</td></tr>\n",
       "\t<tr><th scope=row>5</th><td>1304</td><td>Middle</td><td>Female</td><td>Own </td><td>Single </td><td>Close</td><td>68400</td><td>0</td><td>High</td><td>12</td></tr>\n",
       "\t<tr><th scope=row>6</th><td> 495</td><td>Young </td><td>Male  </td><td>Own </td><td>Married</td><td>Close</td><td>30400</td><td>0</td><td>Low </td><td> 6</td></tr>\n",
       "</tbody>\n",
       "</table>\n"
      ],
      "text/latex": [
       "A data.frame: 6 × 10\n",
       "\\begin{tabular}{r|llllllllll}\n",
       "  & AmountSpent & Age & Gender & OwnHome & Married & Location & Salary & Children & History & Catalogs\\\\\n",
       "  & <int> & <chr> & <chr> & <chr> & <chr> & <chr> & <int> & <int> & <chr> & <int>\\\\\n",
       "\\hline\n",
       "\t1 &  755 & Old    & Female & Own  & Single  & Far   & 47500 & 0 & High &  6\\\\\n",
       "\t2 & 1318 & Middle & Male   & Rent & Single  & Close & 63600 & 0 & High &  6\\\\\n",
       "\t3 &  296 & Young  & Female & Rent & Single  & Close & 13500 & 0 & Low  & 18\\\\\n",
       "\t4 & 2436 & Middle & Male   & Own  & Married & Close & 85600 & 1 & High & 18\\\\\n",
       "\t5 & 1304 & Middle & Female & Own  & Single  & Close & 68400 & 0 & High & 12\\\\\n",
       "\t6 &  495 & Young  & Male   & Own  & Married & Close & 30400 & 0 & Low  &  6\\\\\n",
       "\\end{tabular}\n"
      ],
      "text/markdown": [
       "\n",
       "A data.frame: 6 × 10\n",
       "\n",
       "| <!--/--> | AmountSpent &lt;int&gt; | Age &lt;chr&gt; | Gender &lt;chr&gt; | OwnHome &lt;chr&gt; | Married &lt;chr&gt; | Location &lt;chr&gt; | Salary &lt;int&gt; | Children &lt;int&gt; | History &lt;chr&gt; | Catalogs &lt;int&gt; |\n",
       "|---|---|---|---|---|---|---|---|---|---|---|\n",
       "| 1 |  755 | Old    | Female | Own  | Single  | Far   | 47500 | 0 | High |  6 |\n",
       "| 2 | 1318 | Middle | Male   | Rent | Single  | Close | 63600 | 0 | High |  6 |\n",
       "| 3 |  296 | Young  | Female | Rent | Single  | Close | 13500 | 0 | Low  | 18 |\n",
       "| 4 | 2436 | Middle | Male   | Own  | Married | Close | 85600 | 1 | High | 18 |\n",
       "| 5 | 1304 | Middle | Female | Own  | Single  | Close | 68400 | 0 | High | 12 |\n",
       "| 6 |  495 | Young  | Male   | Own  | Married | Close | 30400 | 0 | Low  |  6 |\n",
       "\n"
      ],
      "text/plain": [
       "  AmountSpent Age    Gender OwnHome Married Location Salary Children History\n",
       "1  755        Old    Female Own     Single  Far      47500  0        High   \n",
       "2 1318        Middle Male   Rent    Single  Close    63600  0        High   \n",
       "3  296        Young  Female Rent    Single  Close    13500  0        Low    \n",
       "4 2436        Middle Male   Own     Married Close    85600  1        High   \n",
       "5 1304        Middle Female Own     Single  Close    68400  0        High   \n",
       "6  495        Young  Male   Own     Married Close    30400  0        Low    \n",
       "  Catalogs\n",
       "1  6      \n",
       "2  6      \n",
       "3 18      \n",
       "4 18      \n",
       "5 12      \n",
       "6  6      "
      ]
     },
     "metadata": {},
     "output_type": "display_data"
    }
   ],
   "source": [
    "head(data)"
   ]
  },
  {
   "cell_type": "markdown",
   "id": "a463a30a-e723-41da-8bcd-88a8636278b6",
   "metadata": {},
   "source": [
    "We have information on 1000 customers of a direct mail catalog company. Most of the variables are self-explanatory and concern demographic traits. *Location* is the distance between the customer's home and the nearest store of the company.\n",
    "*Catalogs* is the number of catalogs sent to the customer in the latest order he placed.\n",
    "*History* is a measure of the customer's previous purchase volume (before the latest order)."
   ]
  },
  {
   "cell_type": "markdown",
   "id": "851fbc8a-1a15-4826-a539-3838c8502ecd",
   "metadata": {},
   "source": [
    "First, let's convert categorical variables to factors, so that R can recognize them."
   ]
  },
  {
   "cell_type": "code",
   "execution_count": 4,
   "id": "87cca5e1-a039-4e35-87e3-d7dc623199ba",
   "metadata": {},
   "outputs": [],
   "source": [
    "categorical <- c(\"Age\", \"Gender\", \"OwnHome\", \"Married\", \"Location\", \"Children\", \"History\")\n",
    "data[categorical] <- lapply(data[categorical], factor)"
   ]
  },
  {
   "cell_type": "code",
   "execution_count": 5,
   "id": "80b1f656-6f8d-461b-b04a-2ddc1169b810",
   "metadata": {},
   "outputs": [
    {
     "name": "stdout",
     "output_type": "stream",
     "text": [
      "'data.frame':\t1000 obs. of  10 variables:\n",
      " $ AmountSpent: int  755 1318 296 2436 1304 495 782 1155 158 3034 ...\n",
      " $ Age        : Factor w/ 3 levels \"Middle\",\"Old\",..: 2 1 3 1 1 3 1 1 1 2 ...\n",
      " $ Gender     : Factor w/ 2 levels \"Female\",\"Male\": 1 2 1 2 1 2 1 2 1 2 ...\n",
      " $ OwnHome    : Factor w/ 2 levels \"Own\",\"Rent\": 1 2 2 1 1 1 2 1 1 1 ...\n",
      " $ Married    : Factor w/ 2 levels \"Married\",\"Single\": 2 2 2 1 2 1 2 2 1 1 ...\n",
      " $ Location   : Factor w/ 2 levels \"Close\",\"Far\": 2 1 1 1 1 1 1 1 1 2 ...\n",
      " $ Salary     : int  47500 63600 13500 85600 68400 30400 48100 68400 51900 80700 ...\n",
      " $ Children   : Factor w/ 4 levels \"0\",\"1\",\"2\",\"3\": 1 1 1 2 1 1 1 1 4 1 ...\n",
      " $ History    : Factor w/ 4 levels \"High\",\"Low\",\"Medium\",..: 1 1 2 1 1 2 3 1 2 4 ...\n",
      " $ Catalogs   : int  6 6 18 18 12 6 12 18 6 18 ...\n"
     ]
    }
   ],
   "source": [
    "str(data)"
   ]
  },
  {
   "cell_type": "markdown",
   "id": "b8e284f5-d0ad-4d34-8a96-80fe13ba1653",
   "metadata": {},
   "source": [
    "Let's make use of the *k-proto* algorithm."
   ]
  },
  {
   "cell_type": "markdown",
   "id": "da4199ca-f479-47cc-a417-23dabe5aae9f",
   "metadata": {},
   "source": [
    "In order to decide the optimal number of clusters, we are going to evaluate the within-group variance with a scree plot: the elbow point will indicate the most appropriate value for $k$."
   ]
  },
  {
   "cell_type": "code",
   "execution_count": 6,
   "id": "2260e232-5fc1-43d7-909d-ea885659d96c",
   "metadata": {},
   "outputs": [],
   "source": [
    "library(clustMixType)"
   ]
  },
  {
   "cell_type": "code",
   "execution_count": 7,
   "id": "13045843-71ba-4dac-ad69-4c3f654fc0c8",
   "metadata": {},
   "outputs": [
    {
     "name": "stdout",
     "output_type": "stream",
     "text": [
      "# NAs in variables:\n",
      "AmountSpent         Age      Gender     OwnHome     Married    Location \n",
      "          0           0           0           0           0           0 \n",
      "     Salary    Children     History    Catalogs \n",
      "          0           0           0           0 \n",
      "0 observation(s) with NAs.\n",
      "\n",
      "Estimated lambda: 553923383 \n",
      "\n",
      "0 observation(s) with NAs.\n",
      "\n",
      "# NAs in variables:\n",
      "AmountSpent         Age      Gender     OwnHome     Married    Location \n",
      "          0           0           0           0           0           0 \n",
      "     Salary    Children     History    Catalogs \n",
      "          0           0           0           0 \n",
      "0 observation(s) with NAs.\n",
      "\n",
      "Estimated lambda: 553923383 \n",
      "\n",
      "0 observation(s) with NAs.\n",
      "\n",
      "# NAs in variables:\n",
      "AmountSpent         Age      Gender     OwnHome     Married    Location \n",
      "          0           0           0           0           0           0 \n",
      "     Salary    Children     History    Catalogs \n",
      "          0           0           0           0 \n",
      "0 observation(s) with NAs.\n",
      "\n",
      "Estimated lambda: 553923383 \n",
      "\n",
      "0 observation(s) with NAs.\n",
      "\n",
      "# NAs in variables:\n",
      "AmountSpent         Age      Gender     OwnHome     Married    Location \n",
      "          0           0           0           0           0           0 \n",
      "     Salary    Children     History    Catalogs \n",
      "          0           0           0           0 \n",
      "0 observation(s) with NAs.\n",
      "\n",
      "Estimated lambda: 553923383 \n",
      "\n",
      "0 observation(s) with NAs.\n",
      "\n",
      "# NAs in variables:\n",
      "AmountSpent         Age      Gender     OwnHome     Married    Location \n",
      "          0           0           0           0           0           0 \n",
      "     Salary    Children     History    Catalogs \n",
      "          0           0           0           0 \n",
      "0 observation(s) with NAs.\n",
      "\n",
      "Estimated lambda: 553923383 \n",
      "\n",
      "0 observation(s) with NAs.\n",
      "\n",
      "# NAs in variables:\n",
      "AmountSpent         Age      Gender     OwnHome     Married    Location \n",
      "          0           0           0           0           0           0 \n",
      "     Salary    Children     History    Catalogs \n",
      "          0           0           0           0 \n",
      "0 observation(s) with NAs.\n",
      "\n",
      "Estimated lambda: 553923383 \n",
      "\n",
      "0 observation(s) with NAs.\n",
      "\n",
      "# NAs in variables:\n",
      "AmountSpent         Age      Gender     OwnHome     Married    Location \n",
      "          0           0           0           0           0           0 \n",
      "     Salary    Children     History    Catalogs \n",
      "          0           0           0           0 \n",
      "0 observation(s) with NAs.\n",
      "\n",
      "Estimated lambda: 553923383 \n",
      "\n",
      "0 observation(s) with NAs.\n",
      "\n",
      "# NAs in variables:\n",
      "AmountSpent         Age      Gender     OwnHome     Married    Location \n",
      "          0           0           0           0           0           0 \n",
      "     Salary    Children     History    Catalogs \n",
      "          0           0           0           0 \n",
      "0 observation(s) with NAs.\n",
      "\n",
      "Estimated lambda: 553923383 \n",
      "\n",
      "0 observation(s) with NAs.\n",
      "\n",
      "# NAs in variables:\n",
      "AmountSpent         Age      Gender     OwnHome     Married    Location \n",
      "          0           0           0           0           0           0 \n",
      "     Salary    Children     History    Catalogs \n",
      "          0           0           0           0 \n",
      "0 observation(s) with NAs.\n",
      "\n",
      "Estimated lambda: 553923383 \n",
      "\n",
      "0 observation(s) with NAs.\n",
      "\n",
      "# NAs in variables:\n",
      "AmountSpent         Age      Gender     OwnHome     Married    Location \n",
      "          0           0           0           0           0           0 \n",
      "     Salary    Children     History    Catalogs \n",
      "          0           0           0           0 \n",
      "0 observation(s) with NAs.\n",
      "\n",
      "Estimated lambda: 553923383 \n",
      "\n",
      "0 observation(s) with NAs.\n",
      "\n",
      "# NAs in variables:\n",
      "AmountSpent         Age      Gender     OwnHome     Married    Location \n",
      "          0           0           0           0           0           0 \n",
      "     Salary    Children     History    Catalogs \n",
      "          0           0           0           0 \n",
      "0 observation(s) with NAs.\n",
      "\n",
      "Estimated lambda: 553923383 \n",
      "\n",
      "0 observation(s) with NAs.\n",
      "\n",
      "# NAs in variables:\n",
      "AmountSpent         Age      Gender     OwnHome     Married    Location \n",
      "          0           0           0           0           0           0 \n",
      "     Salary    Children     History    Catalogs \n",
      "          0           0           0           0 \n",
      "0 observation(s) with NAs.\n",
      "\n",
      "Estimated lambda: 553923383 \n",
      "\n",
      "0 observation(s) with NAs.\n",
      "\n",
      "# NAs in variables:\n",
      "AmountSpent         Age      Gender     OwnHome     Married    Location \n",
      "          0           0           0           0           0           0 \n",
      "     Salary    Children     History    Catalogs \n",
      "          0           0           0           0 \n",
      "0 observation(s) with NAs.\n",
      "\n",
      "Estimated lambda: 553923383 \n",
      "\n",
      "0 observation(s) with NAs.\n",
      "\n",
      "# NAs in variables:\n",
      "AmountSpent         Age      Gender     OwnHome     Married    Location \n",
      "          0           0           0           0           0           0 \n",
      "     Salary    Children     History    Catalogs \n",
      "          0           0           0           0 \n",
      "0 observation(s) with NAs.\n",
      "\n",
      "Estimated lambda: 553923383 \n",
      "\n",
      "0 observation(s) with NAs.\n",
      "\n"
     ]
    },
    {
     "data": {
      "image/png": "[encoded data removed]",
      "text/plain": [
       "plot without title"
      ]
     },
     "metadata": {
      "image/png": {
       "height": 420,
       "width": 420
      }
     },
     "output_type": "display_data"
    }
   ],
   "source": [
    "mydata <- data\n",
    "wss <- (nrow(mydata)-1)*sum(apply(mydata,2,var))\n",
    "  for (i in 2:15) wss[i] <- sum(kproto(mydata,\n",
    "                                       k=i)$withinss)\n",
    "plot(1:15, wss, type=\"b\", xlab=\"Number of Clusters\",\n",
    "     ylab=\"Within groups sum of squares\")"
   ]
  },
  {
   "cell_type": "markdown",
   "id": "8d051f7a-ca64-4bda-a9c3-4852f1d27134",
   "metadata": {},
   "source": [
    "We decide to consider four clusters."
   ]
  },
  {
   "cell_type": "code",
   "execution_count": 8,
   "id": "33cba2ee-ba8f-4d0c-9b64-284d15778f82",
   "metadata": {},
   "outputs": [
    {
     "name": "stdout",
     "output_type": "stream",
     "text": [
      "# NAs in variables:\n",
      "AmountSpent         Age      Gender     OwnHome     Married    Location \n",
      "          0           0           0           0           0           0 \n",
      "     Salary    Children     History    Catalogs \n",
      "          0           0           0           0 \n",
      "0 observation(s) with NAs.\n",
      "\n",
      "Estimated lambda: 553923383 \n",
      "\n",
      "0 observation(s) with NAs.\n",
      "\n"
     ]
    }
   ],
   "source": [
    "clusters <- kproto(data, k=4)"
   ]
  },
  {
   "cell_type": "markdown",
   "id": "5a262ba0-4df5-4b2c-b122-2cf0912ae041",
   "metadata": {},
   "source": [
    "![results](img/results.png)"
   ]
  },
  {
   "cell_type": "markdown",
   "id": "7559ee9e-d3e1-4d87-a0fb-8cda3b3607fa",
   "metadata": {},
   "source": [
    "Let's try to describe the four clusters we individuated:\n",
    "- the first cluster is composed of middle-age females with a decent purchase history;\n",
    "- the second cluster is composed of middle-age males with a high salary and a high purchase history who have just placed a big order: they are arguably our most important customers and we need to do anything in order to keep them;\n",
    "- the third cluster is composed of middle-age males who, unlike the previous two clusters, rent and mostly have no purchase history: this is the first order for many of them, so they are potential long-term customers we should try to fidelize.\n",
    "- the fourth cluster is composed of young people, mostly females, and we can see some clear clues on their ages: they rent, are single and have a low salary; additionally, they have a low purchase history and made a small order."
   ]
  },
  {
   "cell_type": "markdown",
   "id": "181a3cc5-0c09-4405-aff7-dbb3c191bd0c",
   "metadata": {},
   "source": [
    "We can also notice that two variables didn't provide valuable insights about the clusters, as their distribution does not differ dramatically between them: they are the distance from the store and the number of children. Were we to conduct a new research, we can safely ignore them. "
   ]
  }
 ],
 "metadata": {
  "kernelspec": {
   "display_name": "R",
   "language": "R",
   "name": "ir"
  },
  "language_info": {
   "codemirror_mode": "r",
   "file_extension": ".r",
   "mimetype": "text/x-r-source",
   "name": "R",
   "pygments_lexer": "r",
   "version": "4.2.2"
  }
 },
 "nbformat": 4,
 "nbformat_minor": 5
}
